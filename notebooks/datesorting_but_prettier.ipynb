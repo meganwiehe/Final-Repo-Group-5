{
  "nbformat": 4,
  "nbformat_minor": 0,
  "metadata": {
    "colab": {
      "provenance": []
    },
    "kernelspec": {
      "name": "python3",
      "display_name": "Python 3"
    },
    "language_info": {
      "name": "python"
    }
  },
  "cells": [
    {
      "cell_type": "code",
      "execution_count": 1,
      "metadata": {
        "id": "CoeSXnbSVaEd"
      },
      "outputs": [],
      "source": [
        "import pandas as pd\n",
        "import numpy as np\n",
        "import requests\n",
        "import geopandas as gpd"
      ]
    },
    {
      "cell_type": "code",
      "source": [
        "from google.colab import files"
      ],
      "metadata": {
        "id": "U42ZOgpBXXF1"
      },
      "execution_count": 2,
      "outputs": []
    },
    {
      "cell_type": "code",
      "source": [
        "hd = pd.read_csv(\"https://data.cityofchicago.org/resource/4ijn-s7e5.csv?$limit=500000\")\n",
        "# you can use any of these\n",
        "ward = gpd.read_file('https://data.cityofchicago.org/api/geospatial/sp34-6z76?method=export&format=GeoJSON')\n",
        "police = gpd.read_file('https://data.cityofchicago.org/api/geospatial/fthy-xz3r?method=export&format=GeoJSON')"
      ],
      "metadata": {
        "id": "K3wTuT9uVk3O"
      },
      "execution_count": 3,
      "outputs": []
    },
    {
      "cell_type": "code",
      "source": [
        "hd['inspection_date'] = pd.to_datetime(hd['inspection_date'])"
      ],
      "metadata": {
        "id": "r__4SzcaVxP1"
      },
      "execution_count": 4,
      "outputs": []
    },
    {
      "cell_type": "markdown",
      "source": [
        "creating new columns"
      ],
      "metadata": {
        "id": "NevnLsj9V-BM"
      }
    },
    {
      "cell_type": "code",
      "source": [
        "hd['inc_year'] = hd['inspection_date'].dt.year\n",
        "hd['inc_month'] = hd['inspection_date'].dt.month\n",
        "hd['inc_week'] = hd['inspection_date'].dt.weekday\n",
        "hd['inc_day'] = hd['inspection_date'].dt.day"
      ],
      "metadata": {
        "id": "OVKfWJofV0Vj"
      },
      "execution_count": 11,
      "outputs": []
    },
    {
      "cell_type": "code",
      "source": [
        "hd['year_month'] = hd['inc_year'].astype(str) + \"-\" + hd['inc_month'].astype(str) + \"-01\""
      ],
      "metadata": {
        "id": "yi9dYRMOV3Fy"
      },
      "execution_count": 6,
      "outputs": []
    },
    {
      "cell_type": "code",
      "source": [
        "hd['week'] = hd['inc_week'].astype(str)"
      ],
      "metadata": {
        "id": "t-pJCgJZBSWI"
      },
      "execution_count": 12,
      "outputs": []
    },
    {
      "cell_type": "code",
      "source": [
        "hd['count'] = 1"
      ],
      "metadata": {
        "id": "oRmwLyo5WALu"
      },
      "execution_count": 7,
      "outputs": []
    },
    {
      "cell_type": "markdown",
      "source": [
        "running groupby"
      ],
      "metadata": {
        "id": "IShqVP7iWEO-"
      }
    },
    {
      "cell_type": "code",
      "source": [
        "hd.groupby('week')['count'].sum()"
      ],
      "metadata": {
        "colab": {
          "base_uri": "https://localhost:8080/"
        },
        "id": "ewya5nJLBlAX",
        "outputId": "d062f6e2-7b73-40c1-a360-378a398a8857"
      },
      "execution_count": 21,
      "outputs": [
        {
          "output_type": "execute_result",
          "data": {
            "text/plain": [
              "week\n",
              "0    44720\n",
              "1    61794\n",
              "2    50323\n",
              "3    60778\n",
              "4    53278\n",
              "5      117\n",
              "6       13\n",
              "Name: count, dtype: int64"
            ]
          },
          "metadata": {},
          "execution_count": 21
        }
      ]
    },
    {
      "cell_type": "code",
      "source": [
        "week = hd.groupby('week')['count'].sum()"
      ],
      "metadata": {
        "id": "KMzPZjSuBvHo"
      },
      "execution_count": 19,
      "outputs": []
    },
    {
      "cell_type": "code",
      "source": [
        "week.to_csv('week')"
      ],
      "metadata": {
        "id": "Wac38hUqBzEB"
      },
      "execution_count": 16,
      "outputs": []
    },
    {
      "cell_type": "code",
      "source": [
        "files.download('week')"
      ],
      "metadata": {
        "colab": {
          "base_uri": "https://localhost:8080/",
          "height": 17
        },
        "id": "DZfSTvUHB3Cm",
        "outputId": "dd8dec3e-0763-4db3-c073-af2cf456d496"
      },
      "execution_count": 17,
      "outputs": [
        {
          "output_type": "display_data",
          "data": {
            "text/plain": [
              "<IPython.core.display.Javascript object>"
            ],
            "application/javascript": [
              "\n",
              "    async function download(id, filename, size) {\n",
              "      if (!google.colab.kernel.accessAllowed) {\n",
              "        return;\n",
              "      }\n",
              "      const div = document.createElement('div');\n",
              "      const label = document.createElement('label');\n",
              "      label.textContent = `Downloading \"${filename}\": `;\n",
              "      div.appendChild(label);\n",
              "      const progress = document.createElement('progress');\n",
              "      progress.max = size;\n",
              "      div.appendChild(progress);\n",
              "      document.body.appendChild(div);\n",
              "\n",
              "      const buffers = [];\n",
              "      let downloaded = 0;\n",
              "\n",
              "      const channel = await google.colab.kernel.comms.open(id);\n",
              "      // Send a message to notify the kernel that we're ready.\n",
              "      channel.send({})\n",
              "\n",
              "      for await (const message of channel.messages) {\n",
              "        // Send a message to notify the kernel that we're ready.\n",
              "        channel.send({})\n",
              "        if (message.buffers) {\n",
              "          for (const buffer of message.buffers) {\n",
              "            buffers.push(buffer);\n",
              "            downloaded += buffer.byteLength;\n",
              "            progress.value = downloaded;\n",
              "          }\n",
              "        }\n",
              "      }\n",
              "      const blob = new Blob(buffers, {type: 'application/binary'});\n",
              "      const a = document.createElement('a');\n",
              "      a.href = window.URL.createObjectURL(blob);\n",
              "      a.download = filename;\n",
              "      div.appendChild(a);\n",
              "      a.click();\n",
              "      div.remove();\n",
              "    }\n",
              "  "
            ]
          },
          "metadata": {}
        },
        {
          "output_type": "display_data",
          "data": {
            "text/plain": [
              "<IPython.core.display.Javascript object>"
            ],
            "application/javascript": [
              "download(\"download_3b21d26b-18ab-44c8-a303-7c81132b5209\", \"week\", 62)"
            ]
          },
          "metadata": {}
        }
      ]
    },
    {
      "cell_type": "code",
      "source": [
        "hd.groupby('year_month')['count'].sum().mean()"
      ],
      "metadata": {
        "colab": {
          "base_uri": "https://localhost:8080/"
        },
        "id": "PnDnm8QLDBdS",
        "outputId": "7feffed4-139b-4d8c-cdb2-00274b8fe3c4"
      },
      "execution_count": 31,
      "outputs": [
        {
          "output_type": "execute_result",
          "data": {
            "text/plain": [
              "1575.7151162790697"
            ]
          },
          "metadata": {},
          "execution_count": 31
        }
      ]
    },
    {
      "cell_type": "code",
      "source": [
        "hd.groupby('year_month')['count'].sum()"
      ],
      "metadata": {
        "colab": {
          "base_uri": "https://localhost:8080/"
        },
        "id": "vRvIgU37XEBm",
        "outputId": "a3b508e9-fe5d-4f2d-cf48-94c00dd272af"
      },
      "execution_count": 8,
      "outputs": [
        {
          "output_type": "execute_result",
          "data": {
            "text/plain": [
              "year_month\n",
              "2010-1-01     1279\n",
              "2010-10-01    1814\n",
              "2010-11-01    1294\n",
              "2010-12-01    1278\n",
              "2010-2-01     1399\n",
              "              ... \n",
              "2023-9-01     1535\n",
              "2024-1-01     1367\n",
              "2024-2-01     1345\n",
              "2024-3-01     1457\n",
              "2024-4-01      937\n",
              "Name: count, Length: 172, dtype: int64"
            ]
          },
          "metadata": {},
          "execution_count": 8
        }
      ]
    },
    {
      "cell_type": "code",
      "source": [
        "year_month = hd.groupby('year_month')['count'].sum()"
      ],
      "metadata": {
        "id": "6kou4oJUWD-F"
      },
      "execution_count": 9,
      "outputs": []
    },
    {
      "cell_type": "code",
      "source": [
        "year_month.to_csv('year_month')"
      ],
      "metadata": {
        "id": "EXKL-hdrWPnf"
      },
      "execution_count": 13,
      "outputs": []
    },
    {
      "cell_type": "code",
      "source": [
        "files.download('year_month')"
      ],
      "metadata": {
        "colab": {
          "base_uri": "https://localhost:8080/",
          "height": 17
        },
        "id": "ZMS_jOqFXMlo",
        "outputId": "d7704daa-c382-4d2f-b634-f3a7aff4f05e"
      },
      "execution_count": 16,
      "outputs": [
        {
          "output_type": "display_data",
          "data": {
            "text/plain": [
              "<IPython.core.display.Javascript object>"
            ],
            "application/javascript": [
              "\n",
              "    async function download(id, filename, size) {\n",
              "      if (!google.colab.kernel.accessAllowed) {\n",
              "        return;\n",
              "      }\n",
              "      const div = document.createElement('div');\n",
              "      const label = document.createElement('label');\n",
              "      label.textContent = `Downloading \"${filename}\": `;\n",
              "      div.appendChild(label);\n",
              "      const progress = document.createElement('progress');\n",
              "      progress.max = size;\n",
              "      div.appendChild(progress);\n",
              "      document.body.appendChild(div);\n",
              "\n",
              "      const buffers = [];\n",
              "      let downloaded = 0;\n",
              "\n",
              "      const channel = await google.colab.kernel.comms.open(id);\n",
              "      // Send a message to notify the kernel that we're ready.\n",
              "      channel.send({})\n",
              "\n",
              "      for await (const message of channel.messages) {\n",
              "        // Send a message to notify the kernel that we're ready.\n",
              "        channel.send({})\n",
              "        if (message.buffers) {\n",
              "          for (const buffer of message.buffers) {\n",
              "            buffers.push(buffer);\n",
              "            downloaded += buffer.byteLength;\n",
              "            progress.value = downloaded;\n",
              "          }\n",
              "        }\n",
              "      }\n",
              "      const blob = new Blob(buffers, {type: 'application/binary'});\n",
              "      const a = document.createElement('a');\n",
              "      a.href = window.URL.createObjectURL(blob);\n",
              "      a.download = filename;\n",
              "      div.appendChild(a);\n",
              "      a.click();\n",
              "      div.remove();\n",
              "    }\n",
              "  "
            ]
          },
          "metadata": {}
        },
        {
          "output_type": "display_data",
          "data": {
            "text/plain": [
              "<IPython.core.display.Javascript object>"
            ],
            "application/javascript": [
              "download(\"download_0617f24a-9416-4509-a5ee-329f28d18889\", \"year_month\", 2637)"
            ]
          },
          "metadata": {}
        }
      ]
    },
    {
      "cell_type": "markdown",
      "source": [
        "Chart of year month data\n",
        "\n",
        "https://datawrapper.dwcdn.net/8o95a/1/"
      ],
      "metadata": {
        "id": "7PrA_1RVuW4p"
      }
    }
  ]
}