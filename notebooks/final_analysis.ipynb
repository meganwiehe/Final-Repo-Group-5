{
  "nbformat": 4,
  "nbformat_minor": 0,
  "metadata": {
    "colab": {
      "provenance": []
    },
    "kernelspec": {
      "name": "python3",
      "display_name": "Python 3"
    },
    "language_info": {
      "name": "python"
    }
  },
  "cells": [
    {
      "cell_type": "code",
      "execution_count": 1,
      "metadata": {
        "id": "PuU9YcABPQZZ"
      },
      "outputs": [],
      "source": [
        "import pandas as pd\n",
        "import numpy as np\n",
        "import requests\n",
        "import geopandas as gpd\n",
        "from google.colab import files"
      ]
    },
    {
      "cell_type": "code",
      "source": [
        "hd = pd.read_csv(\"https://data.cityofchicago.org/resource/4ijn-s7e5.csv?$limit=500000\")\n",
        "# you can use any of these\n",
        "ward = gpd.read_file('https://data.cityofchicago.org/api/geospatial/sp34-6z76?method=export&format=GeoJSON')\n",
        "police = gpd.read_file('https://data.cityofchicago.org/api/geospatial/fthy-xz3r?method=export&format=GeoJSON')"
      ],
      "metadata": {
        "id": "i2SGQmzTPgjQ"
      },
      "execution_count": 2,
      "outputs": []
    },
    {
      "cell_type": "markdown",
      "source": [
        "**Analyzing how many restaurants are inspected every month/year**"
      ],
      "metadata": {
        "id": "F4Zcv65gRIYw"
      }
    },
    {
      "cell_type": "markdown",
      "source": [
        "Creating new columns"
      ],
      "metadata": {
        "id": "BpXxTBoiRUl0"
      }
    },
    {
      "cell_type": "code",
      "source": [
        "hd['inspection_date'] = pd.to_datetime(hd['inspection_date'])"
      ],
      "metadata": {
        "id": "V_fhZIvYRWui"
      },
      "execution_count": 3,
      "outputs": []
    },
    {
      "cell_type": "code",
      "source": [
        "hd['inc_year'] = hd['inspection_date'].dt.year\n",
        "hd['inc_month'] = hd['inspection_date'].dt.month\n",
        "hd['inc_week'] = hd['inspection_date'].dt.weekday\n",
        "hd['inc_day'] = hd['inspection_date'].dt.day"
      ],
      "metadata": {
        "id": "OQUfjmMvRazS"
      },
      "execution_count": 4,
      "outputs": []
    },
    {
      "cell_type": "code",
      "source": [
        "hd['year_month'] = hd['inc_year'].astype(str) + \"-\" + hd['inc_month'].astype(str) + \"-01\""
      ],
      "metadata": {
        "id": "IWXCPYknReAU"
      },
      "execution_count": 5,
      "outputs": []
    },
    {
      "cell_type": "code",
      "source": [
        "hd['count'] = 1"
      ],
      "metadata": {
        "id": "xRJzL7FVRhQo"
      },
      "execution_count": 6,
      "outputs": []
    },
    {
      "cell_type": "markdown",
      "source": [
        "running groupby"
      ],
      "metadata": {
        "id": "KMeMT8iMRkB2"
      }
    },
    {
      "cell_type": "code",
      "source": [
        "hd.groupby('year_month')['count'].sum()"
      ],
      "metadata": {
        "colab": {
          "base_uri": "https://localhost:8080/"
        },
        "id": "bIGN-izhRlFr",
        "outputId": "30373fb8-9417-47f0-e0dd-0ed651555c64"
      },
      "execution_count": 7,
      "outputs": [
        {
          "output_type": "execute_result",
          "data": {
            "text/plain": [
              "year_month\n",
              "2010-1-01     1279\n",
              "2010-10-01    1814\n",
              "2010-11-01    1294\n",
              "2010-12-01    1278\n",
              "2010-2-01     1399\n",
              "              ... \n",
              "2023-9-01     1535\n",
              "2024-1-01     1367\n",
              "2024-2-01     1345\n",
              "2024-3-01     1457\n",
              "2024-4-01      937\n",
              "Name: count, Length: 172, dtype: int64"
            ]
          },
          "metadata": {},
          "execution_count": 7
        }
      ]
    },
    {
      "cell_type": "code",
      "source": [
        "hd.groupby('year_month')['count'].sum().mean()"
      ],
      "metadata": {
        "colab": {
          "base_uri": "https://localhost:8080/"
        },
        "id": "aWDzmOlbRqGK",
        "outputId": "a45503ac-ea0b-4bf8-d4e4-4b5c3dc309c5"
      },
      "execution_count": 8,
      "outputs": [
        {
          "output_type": "execute_result",
          "data": {
            "text/plain": [
              "1575.7151162790697"
            ]
          },
          "metadata": {},
          "execution_count": 8
        }
      ]
    },
    {
      "cell_type": "code",
      "source": [
        "year_month = hd.groupby('year_month')['count'].sum()"
      ],
      "metadata": {
        "id": "EeUwGOwFRuuv"
      },
      "execution_count": 9,
      "outputs": []
    },
    {
      "cell_type": "markdown",
      "source": [
        "Inspections done per month - https://datawrapper.dwcdn.net/8o95a/1/\n",
        "\n",
        "Inspections done per year - https://datawrapper.dwcdn.net/1UWqG/4/"
      ],
      "metadata": {
        "id": "sj3h3D6fR3AR"
      }
    },
    {
      "cell_type": "markdown",
      "source": [
        "**Analyzing how many restaurants are inspected by geographical area**"
      ],
      "metadata": {
        "id": "N1iM8FJ8SHfg"
      }
    },
    {
      "cell_type": "markdown",
      "source": [
        "**Analyzing how many restaurants receive either a downgraded or upgraded inspection and Failing or Passing grade**"
      ],
      "metadata": {
        "id": "nMklUuiZSKDz"
      }
    },
    {
      "cell_type": "markdown",
      "source": [
        "**List of restaurants who are failing their inspections**"
      ],
      "metadata": {
        "id": "JWTsHT8FS-9y"
      }
    }
  ]
}