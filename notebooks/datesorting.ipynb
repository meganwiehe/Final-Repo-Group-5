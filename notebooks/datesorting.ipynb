{
  "nbformat": 4,
  "nbformat_minor": 0,
  "metadata": {
    "colab": {
      "provenance": []
    },
    "kernelspec": {
      "name": "python3",
      "display_name": "Python 3"
    },
    "language_info": {
      "name": "python"
    }
  },
  "cells": [
    {
      "cell_type": "code",
      "execution_count": null,
      "metadata": {
        "id": "73XF45pdpmcc"
      },
      "outputs": [],
      "source": [
        "import pandas as pd\n",
        "import numpy as np\n",
        "import requests\n",
        "import geopandas as gpd"
      ]
    },
    {
      "cell_type": "code",
      "source": [
        "hd = pd.read_csv(\"https://data.cityofchicago.org/resource/4ijn-s7e5.csv?$limit=500000\")\n",
        "# you can use any of these\n",
        "ward = gpd.read_file('https://data.cityofchicago.org/api/geospatial/sp34-6z76?method=export&format=GeoJSON')\n",
        "police = gpd.read_file('https://data.cityofchicago.org/api/geospatial/fthy-xz3r?method=export&format=GeoJSON')"
      ],
      "metadata": {
        "id": "u26R8_hcpnMI"
      },
      "execution_count": null,
      "outputs": []
    },
    {
      "cell_type": "code",
      "source": [
        "yearly_data = pd.read_csv('/content/data-1UWqG.csv')"
      ],
      "metadata": {
        "id": "9BVwQ6tt3EL0"
      },
      "execution_count": 121,
      "outputs": []
    },
    {
      "cell_type": "markdown",
      "source": [
        "inspection per year chart\n",
        "\n",
        "https://datawrapper.dwcdn.net/1UWqG/3/"
      ],
      "metadata": {
        "id": "EoAt_m2_4RlS"
      }
    },
    {
      "cell_type": "code",
      "source": [
        "monthly_data = pd.read_csv('/content/data-C7pyP.csv')"
      ],
      "metadata": {
        "id": "6QkYHd9H3u8J"
      },
      "execution_count": 122,
      "outputs": []
    },
    {
      "cell_type": "markdown",
      "source": [
        "inspections per month chart\n",
        "\n",
        "https://datawrapper.dwcdn.net/C7pyP/1/"
      ],
      "metadata": {
        "id": "XgKdYQT34XJ7"
      }
    },
    {
      "cell_type": "code",
      "source": [
        "print(yearly_data)"
      ],
      "metadata": {
        "colab": {
          "base_uri": "https://localhost:8080/"
        },
        "id": "wNzTsMJE32jn",
        "outputId": "b75042af-dcb1-499b-a169-ba40bcc72939"
      },
      "execution_count": 125,
      "outputs": [
        {
          "output_type": "stream",
          "name": "stdout",
          "text": [
            "     X.1    X.2\n",
            "0   2024   5039\n",
            "1   2023  18262\n",
            "2   2022  16936\n",
            "3   2021  15868\n",
            "4   2020  15123\n",
            "5   2019  19052\n",
            "6   2018  17192\n",
            "7   2017  21587\n",
            "8   2016  22818\n",
            "9   2015  20911\n",
            "10  2014  21540\n",
            "11  2013  20948\n",
            "12  2012  18866\n",
            "13  2011  18747\n",
            "14  2010  18067\n"
          ]
        }
      ]
    },
    {
      "cell_type": "code",
      "source": [
        "print(monthly_data)"
      ],
      "metadata": {
        "colab": {
          "base_uri": "https://localhost:8080/"
        },
        "id": "LiOOAP_q4Lyk",
        "outputId": "9253d656-3d41-45a4-89fc-38f6777fbf8e"
      },
      "execution_count": 126,
      "outputs": [
        {
          "output_type": "stream",
          "name": "stdout",
          "text": [
            "          X.1    X.2\n",
            "0     January  21713\n",
            "1    February  20300\n",
            "2       March  24641\n",
            "3       April  23006\n",
            "4         May  24068\n",
            "5        June  24084\n",
            "6        July  19779\n",
            "7      August  23703\n",
            "8   September  24069\n",
            "9     October  24534\n",
            "10   November  21463\n",
            "11   December  19596\n"
          ]
        }
      ]
    },
    {
      "cell_type": "code",
      "source": [
        "hd['inspection_date'] = pd.to_datetime(hd['inspection_date'])"
      ],
      "metadata": {
        "id": "aV8iJ7Anp4vt"
      },
      "execution_count": null,
      "outputs": []
    },
    {
      "cell_type": "code",
      "source": [
        "hd['inspection_date'].dt.year"
      ],
      "metadata": {
        "colab": {
          "base_uri": "https://localhost:8080/"
        },
        "id": "mYXHwKB6r5Rc",
        "outputId": "7feeaad6-da89-4fc4-d2bb-e80c41d7b6cc"
      },
      "execution_count": null,
      "outputs": [
        {
          "output_type": "execute_result",
          "data": {
            "text/plain": [
              "0         2024\n",
              "1         2024\n",
              "2         2024\n",
              "3         2024\n",
              "4         2024\n",
              "          ... \n",
              "270951    2010\n",
              "270952    2010\n",
              "270953    2010\n",
              "270954    2010\n",
              "270955    2010\n",
              "Name: inspection_date, Length: 270956, dtype: int32"
            ]
          },
          "metadata": {},
          "execution_count": 22
        }
      ]
    },
    {
      "cell_type": "code",
      "source": [
        "year_to_filter = 2024"
      ],
      "metadata": {
        "id": "ZQQdgsMQqd-m"
      },
      "execution_count": null,
      "outputs": []
    },
    {
      "cell_type": "code",
      "source": [
        "values_for_year = hd[hd['inspection_date'].dt.year == year_to_filter]['inspection_date']"
      ],
      "metadata": {
        "id": "6tngIbo5qhFt"
      },
      "execution_count": null,
      "outputs": []
    },
    {
      "cell_type": "code",
      "source": [
        "print(values_for_year)"
      ],
      "metadata": {
        "colab": {
          "base_uri": "https://localhost:8080/"
        },
        "id": "u0foqwAWquLi",
        "outputId": "97f98901-b4e5-4ace-d6f6-0ae1f2a63027"
      },
      "execution_count": null,
      "outputs": [
        {
          "output_type": "stream",
          "name": "stdout",
          "text": [
            "0      2024-04-19\n",
            "1      2024-04-19\n",
            "2      2024-04-19\n",
            "3      2024-04-19\n",
            "4      2024-04-19\n",
            "          ...    \n",
            "5034   2024-01-04\n",
            "5035   2024-01-02\n",
            "5036   2024-01-02\n",
            "5037   2024-01-02\n",
            "5038   2024-01-02\n",
            "Name: inspection_date, Length: 5039, dtype: datetime64[ns]\n"
          ]
        }
      ]
    },
    {
      "cell_type": "code",
      "source": [
        "year_to_filter = 2023"
      ],
      "metadata": {
        "id": "EA2ddjXsq9gF"
      },
      "execution_count": null,
      "outputs": []
    },
    {
      "cell_type": "code",
      "source": [
        "values_for_year = hd[hd['inspection_date'].dt.year == year_to_filter]['inspection_date']"
      ],
      "metadata": {
        "id": "H4T48d_Lq_00"
      },
      "execution_count": null,
      "outputs": []
    },
    {
      "cell_type": "code",
      "source": [
        "print(values_for_year)"
      ],
      "metadata": {
        "colab": {
          "base_uri": "https://localhost:8080/"
        },
        "id": "Fq9ZTn6crBuE",
        "outputId": "125f70d1-b8c1-49c1-979c-7d0e44313d05"
      },
      "execution_count": null,
      "outputs": [
        {
          "output_type": "stream",
          "name": "stdout",
          "text": [
            "5039    2023-12-29\n",
            "5040    2023-12-29\n",
            "5041    2023-12-29\n",
            "5042    2023-12-29\n",
            "5043    2023-12-29\n",
            "           ...    \n",
            "23296   2023-01-03\n",
            "23297   2023-01-03\n",
            "23298   2023-01-03\n",
            "23299   2023-01-03\n",
            "23300   2023-01-03\n",
            "Name: inspection_date, Length: 18262, dtype: datetime64[ns]\n"
          ]
        }
      ]
    },
    {
      "cell_type": "code",
      "source": [
        "year_to_filter = 2022"
      ],
      "metadata": {
        "id": "KA1BU5P3rHHF"
      },
      "execution_count": null,
      "outputs": []
    },
    {
      "cell_type": "code",
      "source": [
        "values_for_year = hd[hd['inspection_date'].dt.year == year_to_filter]['inspection_date']"
      ],
      "metadata": {
        "id": "3lxfMToUrJqm"
      },
      "execution_count": null,
      "outputs": []
    },
    {
      "cell_type": "code",
      "source": [
        "print(values_for_year)"
      ],
      "metadata": {
        "colab": {
          "base_uri": "https://localhost:8080/"
        },
        "id": "jZZRYTrvrLgw",
        "outputId": "dd370977-78b5-4667-8ec7-7e2b83ce0a4f"
      },
      "execution_count": null,
      "outputs": [
        {
          "output_type": "stream",
          "name": "stdout",
          "text": [
            "23301   2022-12-30\n",
            "23302   2022-12-30\n",
            "23303   2022-12-30\n",
            "23304   2022-12-30\n",
            "23305   2022-12-30\n",
            "           ...    \n",
            "40232   2022-01-04\n",
            "40233   2022-01-04\n",
            "40234   2022-01-04\n",
            "40235   2022-01-04\n",
            "40236   2022-01-03\n",
            "Name: inspection_date, Length: 16936, dtype: datetime64[ns]\n"
          ]
        }
      ]
    },
    {
      "cell_type": "code",
      "source": [
        "year_to_filter = 2021"
      ],
      "metadata": {
        "id": "EIfnVDxBrS9M"
      },
      "execution_count": null,
      "outputs": []
    },
    {
      "cell_type": "code",
      "source": [
        "values_for_year = hd[hd['inspection_date'].dt.year == year_to_filter]['inspection_date']"
      ],
      "metadata": {
        "id": "to3gT1AfrU8c"
      },
      "execution_count": null,
      "outputs": []
    },
    {
      "cell_type": "code",
      "source": [
        "print(values_for_year)"
      ],
      "metadata": {
        "colab": {
          "base_uri": "https://localhost:8080/"
        },
        "id": "GDKfKK58rWrG",
        "outputId": "0006d749-96fb-441c-ecbe-8a52fb62c35f"
      },
      "execution_count": null,
      "outputs": [
        {
          "output_type": "stream",
          "name": "stdout",
          "text": [
            "40237   2021-12-30\n",
            "40238   2021-12-30\n",
            "40239   2021-12-30\n",
            "40240   2021-12-30\n",
            "40241   2021-12-30\n",
            "           ...    \n",
            "56100   2021-01-04\n",
            "56101   2021-01-04\n",
            "56102   2021-01-04\n",
            "56103   2021-01-04\n",
            "56104   2021-01-04\n",
            "Name: inspection_date, Length: 15868, dtype: datetime64[ns]\n"
          ]
        }
      ]
    },
    {
      "cell_type": "code",
      "source": [
        "year_to_filter = 2020"
      ],
      "metadata": {
        "id": "l_AtoeFrsKTd"
      },
      "execution_count": null,
      "outputs": []
    },
    {
      "cell_type": "code",
      "source": [
        "values_for_year = hd[hd['inspection_date'].dt.year == year_to_filter]['inspection_date']"
      ],
      "metadata": {
        "id": "AtlOq8F8sNIS"
      },
      "execution_count": null,
      "outputs": []
    },
    {
      "cell_type": "code",
      "source": [
        "print(values_for_year)"
      ],
      "metadata": {
        "colab": {
          "base_uri": "https://localhost:8080/"
        },
        "id": "b0RP8EzDsPGL",
        "outputId": "9198eced-1f7e-4f4d-abe1-52ed435e7167"
      },
      "execution_count": null,
      "outputs": [
        {
          "output_type": "stream",
          "name": "stdout",
          "text": [
            "56105   2020-12-31\n",
            "56106   2020-12-31\n",
            "56107   2020-12-31\n",
            "56108   2020-12-31\n",
            "56109   2020-12-31\n",
            "           ...    \n",
            "71223   2020-01-02\n",
            "71224   2020-01-02\n",
            "71225   2020-01-02\n",
            "71226   2020-01-02\n",
            "71227   2020-01-02\n",
            "Name: inspection_date, Length: 15123, dtype: datetime64[ns]\n"
          ]
        }
      ]
    },
    {
      "cell_type": "code",
      "source": [
        "year_to_filter = 2019"
      ],
      "metadata": {
        "id": "AXP9wPKGsfeJ"
      },
      "execution_count": null,
      "outputs": []
    },
    {
      "cell_type": "code",
      "source": [
        "values_for_year = hd[hd['inspection_date'].dt.year == year_to_filter]['inspection_date']"
      ],
      "metadata": {
        "id": "Af_jFXCXsvzK"
      },
      "execution_count": null,
      "outputs": []
    },
    {
      "cell_type": "code",
      "source": [
        "print(values_for_year)"
      ],
      "metadata": {
        "colab": {
          "base_uri": "https://localhost:8080/"
        },
        "id": "CW7VJ0Mpsx07",
        "outputId": "f23c9c30-140b-43e6-d493-384ca60936e1"
      },
      "execution_count": null,
      "outputs": [
        {
          "output_type": "stream",
          "name": "stdout",
          "text": [
            "71228   2019-12-31\n",
            "71229   2019-12-31\n",
            "71230   2019-12-31\n",
            "71231   2019-12-31\n",
            "71232   2019-12-31\n",
            "           ...    \n",
            "90275   2019-01-02\n",
            "90276   2019-01-02\n",
            "90277   2019-01-02\n",
            "90278   2019-01-02\n",
            "90279   2019-01-02\n",
            "Name: inspection_date, Length: 19052, dtype: datetime64[ns]\n"
          ]
        }
      ]
    },
    {
      "cell_type": "code",
      "source": [
        "year_to_filter = 2018"
      ],
      "metadata": {
        "id": "cMystFIzs6g3"
      },
      "execution_count": null,
      "outputs": []
    },
    {
      "cell_type": "code",
      "source": [
        "values_for_year = hd[hd['inspection_date'].dt.year == year_to_filter]['inspection_date']"
      ],
      "metadata": {
        "id": "_hE3Chzvs7tt"
      },
      "execution_count": null,
      "outputs": []
    },
    {
      "cell_type": "code",
      "source": [
        "print(values_for_year)"
      ],
      "metadata": {
        "colab": {
          "base_uri": "https://localhost:8080/"
        },
        "id": "fpfqo-19s-AS",
        "outputId": "8d99ccbd-76bc-466c-b109-ec4af9dc2197"
      },
      "execution_count": null,
      "outputs": [
        {
          "output_type": "stream",
          "name": "stdout",
          "text": [
            "90280    2018-12-31\n",
            "90281    2018-12-31\n",
            "90282    2018-12-31\n",
            "90283    2018-12-31\n",
            "90284    2018-12-31\n",
            "            ...    \n",
            "107467   2018-01-02\n",
            "107468   2018-01-02\n",
            "107469   2018-01-02\n",
            "107470   2018-01-02\n",
            "107471   2018-01-02\n",
            "Name: inspection_date, Length: 17192, dtype: datetime64[ns]\n"
          ]
        }
      ]
    },
    {
      "cell_type": "code",
      "source": [
        "year_to_filter = 2017"
      ],
      "metadata": {
        "id": "OKjfNSJxtBgV"
      },
      "execution_count": null,
      "outputs": []
    },
    {
      "cell_type": "code",
      "source": [
        "values_for_year = hd[hd['inspection_date'].dt.year == year_to_filter]['inspection_date']"
      ],
      "metadata": {
        "id": "0okTQhx1tDow"
      },
      "execution_count": null,
      "outputs": []
    },
    {
      "cell_type": "code",
      "source": [
        "print(values_for_year)"
      ],
      "metadata": {
        "colab": {
          "base_uri": "https://localhost:8080/"
        },
        "id": "ig_cN63UtFVi",
        "outputId": "52e47299-c16d-4eb5-b271-76802ae982c7"
      },
      "execution_count": null,
      "outputs": [
        {
          "output_type": "stream",
          "name": "stdout",
          "text": [
            "107472   2017-12-29\n",
            "107473   2017-12-29\n",
            "107474   2017-12-29\n",
            "107475   2017-12-29\n",
            "107476   2017-12-29\n",
            "            ...    \n",
            "129054   2017-01-03\n",
            "129055   2017-01-03\n",
            "129056   2017-01-03\n",
            "129057   2017-01-03\n",
            "129058   2017-01-03\n",
            "Name: inspection_date, Length: 21587, dtype: datetime64[ns]\n"
          ]
        }
      ]
    },
    {
      "cell_type": "code",
      "source": [
        "year_to_filter = 2016"
      ],
      "metadata": {
        "id": "YoZyhRYvtJT-"
      },
      "execution_count": null,
      "outputs": []
    },
    {
      "cell_type": "code",
      "source": [
        "values_for_year = hd[hd['inspection_date'].dt.year == year_to_filter]['inspection_date']"
      ],
      "metadata": {
        "id": "z7W4jzMftQ_A"
      },
      "execution_count": null,
      "outputs": []
    },
    {
      "cell_type": "code",
      "source": [
        "print(values_for_year)"
      ],
      "metadata": {
        "colab": {
          "base_uri": "https://localhost:8080/"
        },
        "id": "pTliTIDZtSXw",
        "outputId": "1ea3c97d-9d71-4042-eafd-a932b4099de6"
      },
      "execution_count": null,
      "outputs": [
        {
          "output_type": "stream",
          "name": "stdout",
          "text": [
            "129059   2016-12-30\n",
            "129060   2016-12-30\n",
            "129061   2016-12-30\n",
            "129062   2016-12-30\n",
            "129063   2016-12-30\n",
            "            ...    \n",
            "151872   2016-01-05\n",
            "151873   2016-01-05\n",
            "151874   2016-01-04\n",
            "151875   2016-01-04\n",
            "151876   2016-01-04\n",
            "Name: inspection_date, Length: 22818, dtype: datetime64[ns]\n"
          ]
        }
      ]
    },
    {
      "cell_type": "code",
      "source": [
        "year_to_filter = 2015"
      ],
      "metadata": {
        "id": "8Fc_uViltWo0"
      },
      "execution_count": null,
      "outputs": []
    },
    {
      "cell_type": "code",
      "source": [
        "values_for_year = hd[hd['inspection_date'].dt.year == year_to_filter]['inspection_date']"
      ],
      "metadata": {
        "id": "j_M3nPUVtYlR"
      },
      "execution_count": null,
      "outputs": []
    },
    {
      "cell_type": "code",
      "source": [
        "print(values_for_year)"
      ],
      "metadata": {
        "colab": {
          "base_uri": "https://localhost:8080/"
        },
        "id": "Ho-ry2_LtaMh",
        "outputId": "afcbac84-50f6-46fc-ff36-0c3d6dd284dd"
      },
      "execution_count": null,
      "outputs": [
        {
          "output_type": "stream",
          "name": "stdout",
          "text": [
            "151877   2015-12-31\n",
            "151878   2015-12-31\n",
            "151879   2015-12-31\n",
            "151880   2015-12-31\n",
            "151881   2015-12-31\n",
            "            ...    \n",
            "172783   2015-01-02\n",
            "172784   2015-01-02\n",
            "172785   2015-01-02\n",
            "172786   2015-01-02\n",
            "172787   2015-01-02\n",
            "Name: inspection_date, Length: 20911, dtype: datetime64[ns]\n"
          ]
        }
      ]
    },
    {
      "cell_type": "code",
      "source": [
        "year_to_filter = 2014"
      ],
      "metadata": {
        "id": "wAgslOmftdwb"
      },
      "execution_count": null,
      "outputs": []
    },
    {
      "cell_type": "code",
      "source": [
        "values_for_year = hd[hd['inspection_date'].dt.year == year_to_filter]['inspection_date']"
      ],
      "metadata": {
        "id": "bMwrZMxJtfpj"
      },
      "execution_count": null,
      "outputs": []
    },
    {
      "cell_type": "code",
      "source": [
        "print(values_for_year)"
      ],
      "metadata": {
        "colab": {
          "base_uri": "https://localhost:8080/"
        },
        "id": "S8Jaa6WNthQS",
        "outputId": "3a570d6b-b214-401b-eff0-1526a2b5e8a9"
      },
      "execution_count": null,
      "outputs": [
        {
          "output_type": "stream",
          "name": "stdout",
          "text": [
            "172788   2014-12-31\n",
            "172789   2014-12-31\n",
            "172790   2014-12-31\n",
            "172791   2014-12-31\n",
            "172792   2014-12-31\n",
            "            ...    \n",
            "194323   2014-01-02\n",
            "194324   2014-01-02\n",
            "194325   2014-01-02\n",
            "194326   2014-01-02\n",
            "194327   2014-01-02\n",
            "Name: inspection_date, Length: 21540, dtype: datetime64[ns]\n"
          ]
        }
      ]
    },
    {
      "cell_type": "code",
      "source": [
        "year_to_filter = 2013"
      ],
      "metadata": {
        "id": "-FWDHvJYtkDP"
      },
      "execution_count": null,
      "outputs": []
    },
    {
      "cell_type": "code",
      "source": [
        "values_for_year = hd[hd['inspection_date'].dt.year == year_to_filter]['inspection_date']"
      ],
      "metadata": {
        "id": "MciLLL_Wtnx3"
      },
      "execution_count": null,
      "outputs": []
    },
    {
      "cell_type": "code",
      "source": [
        "print(values_for_year)"
      ],
      "metadata": {
        "colab": {
          "base_uri": "https://localhost:8080/"
        },
        "id": "3cWtVub2tpRC",
        "outputId": "3b03a4ac-2580-468f-e732-4d2c9fab01b4"
      },
      "execution_count": null,
      "outputs": [
        {
          "output_type": "stream",
          "name": "stdout",
          "text": [
            "194328   2013-12-31\n",
            "194329   2013-12-31\n",
            "194330   2013-12-31\n",
            "194331   2013-12-31\n",
            "194332   2013-12-31\n",
            "            ...    \n",
            "215271   2013-01-02\n",
            "215272   2013-01-02\n",
            "215273   2013-01-02\n",
            "215274   2013-01-02\n",
            "215275   2013-01-02\n",
            "Name: inspection_date, Length: 20948, dtype: datetime64[ns]\n"
          ]
        }
      ]
    },
    {
      "cell_type": "code",
      "source": [
        "year_to_filter = 2012"
      ],
      "metadata": {
        "id": "hnLUlg_ytxYH"
      },
      "execution_count": null,
      "outputs": []
    },
    {
      "cell_type": "code",
      "source": [
        "values_for_year = hd[hd['inspection_date'].dt.year == year_to_filter]['inspection_date']"
      ],
      "metadata": {
        "id": "0kX_-FP6tzra"
      },
      "execution_count": null,
      "outputs": []
    },
    {
      "cell_type": "code",
      "source": [
        "print(values_for_year)"
      ],
      "metadata": {
        "colab": {
          "base_uri": "https://localhost:8080/"
        },
        "id": "jWQK_ZLCt1Pg",
        "outputId": "be7f79fa-81cb-43e1-835c-f711153e46d2"
      },
      "execution_count": null,
      "outputs": [
        {
          "output_type": "stream",
          "name": "stdout",
          "text": [
            "215276   2012-12-31\n",
            "215277   2012-12-31\n",
            "215278   2012-12-31\n",
            "215279   2012-12-31\n",
            "215280   2012-12-31\n",
            "            ...    \n",
            "234137   2012-01-03\n",
            "234138   2012-01-03\n",
            "234139   2012-01-03\n",
            "234140   2012-01-03\n",
            "234141   2012-01-03\n",
            "Name: inspection_date, Length: 18866, dtype: datetime64[ns]\n"
          ]
        }
      ]
    },
    {
      "cell_type": "code",
      "source": [
        "year_to_filter = 2011"
      ],
      "metadata": {
        "id": "EbFO9TqSt6LJ"
      },
      "execution_count": null,
      "outputs": []
    },
    {
      "cell_type": "code",
      "source": [
        "values_for_year = hd[hd['inspection_date'].dt.year == year_to_filter]['inspection_date']"
      ],
      "metadata": {
        "id": "fM0BXXQyt8Yx"
      },
      "execution_count": null,
      "outputs": []
    },
    {
      "cell_type": "code",
      "source": [
        "print(values_for_year)"
      ],
      "metadata": {
        "colab": {
          "base_uri": "https://localhost:8080/"
        },
        "id": "DLoqmKs6t91b",
        "outputId": "42e8c066-f9ee-4bee-888c-b26b4799cf8a"
      },
      "execution_count": null,
      "outputs": [
        {
          "output_type": "stream",
          "name": "stdout",
          "text": [
            "234142   2011-12-30\n",
            "234143   2011-12-30\n",
            "234144   2011-12-30\n",
            "234145   2011-12-30\n",
            "234146   2011-12-30\n",
            "            ...    \n",
            "252884   2011-01-04\n",
            "252885   2011-01-04\n",
            "252886   2011-01-04\n",
            "252887   2011-01-04\n",
            "252888   2011-01-04\n",
            "Name: inspection_date, Length: 18747, dtype: datetime64[ns]\n"
          ]
        }
      ]
    },
    {
      "cell_type": "code",
      "source": [
        "year_to_filter = 2010"
      ],
      "metadata": {
        "id": "bIjvMsAFuBkP"
      },
      "execution_count": null,
      "outputs": []
    },
    {
      "cell_type": "code",
      "source": [
        "values_for_year = hd[hd['inspection_date'].dt.year == year_to_filter]['inspection_date']"
      ],
      "metadata": {
        "id": "UkIcMRNmuDdf"
      },
      "execution_count": null,
      "outputs": []
    },
    {
      "cell_type": "code",
      "source": [
        "print(values_for_year)"
      ],
      "metadata": {
        "colab": {
          "base_uri": "https://localhost:8080/"
        },
        "id": "JOhmEUPnuE3J",
        "outputId": "7cc057ab-3010-4c1a-e65c-3e580ec3567e"
      },
      "execution_count": null,
      "outputs": [
        {
          "output_type": "stream",
          "name": "stdout",
          "text": [
            "252889   2010-12-30\n",
            "252890   2010-12-30\n",
            "252891   2010-12-30\n",
            "252892   2010-12-30\n",
            "252893   2010-12-30\n",
            "            ...    \n",
            "270951   2010-01-04\n",
            "270952   2010-01-04\n",
            "270953   2010-01-04\n",
            "270954   2010-01-04\n",
            "270955   2010-01-04\n",
            "Name: inspection_date, Length: 18067, dtype: datetime64[ns]\n"
          ]
        }
      ]
    },
    {
      "cell_type": "code",
      "source": [
        "month_to_filter = 1"
      ],
      "metadata": {
        "id": "UzblDiWAyLKc"
      },
      "execution_count": null,
      "outputs": []
    },
    {
      "cell_type": "code",
      "source": [
        "values_for_month = hd[hd['inspection_date'].dt.month == month_to_filter]['inspection_date']"
      ],
      "metadata": {
        "id": "hLtR9y5TyWD9"
      },
      "execution_count": null,
      "outputs": []
    },
    {
      "cell_type": "code",
      "source": [
        "print(values_for_month)"
      ],
      "metadata": {
        "colab": {
          "base_uri": "https://localhost:8080/"
        },
        "id": "NG4S97Deybu7",
        "outputId": "2df4311c-bfb4-442c-a476-deafa0bf8fcf"
      },
      "execution_count": null,
      "outputs": [
        {
          "output_type": "stream",
          "name": "stdout",
          "text": [
            "3672     2024-01-31\n",
            "3673     2024-01-31\n",
            "3674     2024-01-31\n",
            "3675     2024-01-31\n",
            "3676     2024-01-31\n",
            "            ...    \n",
            "270951   2010-01-04\n",
            "270952   2010-01-04\n",
            "270953   2010-01-04\n",
            "270954   2010-01-04\n",
            "270955   2010-01-04\n",
            "Name: inspection_date, Length: 21713, dtype: datetime64[ns]\n"
          ]
        }
      ]
    },
    {
      "cell_type": "code",
      "source": [
        "month_to_filter = 2"
      ],
      "metadata": {
        "id": "yfb3bgQ7yhNP"
      },
      "execution_count": null,
      "outputs": []
    },
    {
      "cell_type": "code",
      "source": [
        "values_for_month = hd[hd['inspection_date'].dt.month == month_to_filter]['inspection_date']"
      ],
      "metadata": {
        "id": "HbnJMYviyi_s"
      },
      "execution_count": null,
      "outputs": []
    },
    {
      "cell_type": "code",
      "source": [
        "print(values_for_month)"
      ],
      "metadata": {
        "colab": {
          "base_uri": "https://localhost:8080/"
        },
        "id": "yDXCmrxnylIz",
        "outputId": "aa22059d-c958-4775-b684-7eb8238aa146"
      },
      "execution_count": null,
      "outputs": [
        {
          "output_type": "stream",
          "name": "stdout",
          "text": [
            "2327     2024-02-29\n",
            "2328     2024-02-29\n",
            "2329     2024-02-29\n",
            "2330     2024-02-29\n",
            "2331     2024-02-29\n",
            "            ...    \n",
            "269672   2010-02-01\n",
            "269673   2010-02-01\n",
            "269674   2010-02-01\n",
            "269675   2010-02-01\n",
            "269676   2010-02-01\n",
            "Name: inspection_date, Length: 20300, dtype: datetime64[ns]\n"
          ]
        }
      ]
    },
    {
      "cell_type": "code",
      "source": [
        "month_to_filter = 3"
      ],
      "metadata": {
        "id": "7BP_vQpNyowQ"
      },
      "execution_count": null,
      "outputs": []
    },
    {
      "cell_type": "code",
      "source": [
        "values_for_month = hd[hd['inspection_date'].dt.month == month_to_filter]['inspection_date']"
      ],
      "metadata": {
        "id": "fQxbbG3GyrQM"
      },
      "execution_count": null,
      "outputs": []
    },
    {
      "cell_type": "code",
      "source": [
        "print(values_for_month)"
      ],
      "metadata": {
        "colab": {
          "base_uri": "https://localhost:8080/"
        },
        "id": "IU0OCnZ7ys9g",
        "outputId": "0ee2fbb8-31e5-4284-badd-4d8a84bd0921"
      },
      "execution_count": null,
      "outputs": [
        {
          "output_type": "stream",
          "name": "stdout",
          "text": [
            "870      2024-03-29\n",
            "871      2024-03-29\n",
            "872      2024-03-29\n",
            "873      2024-03-29\n",
            "874      2024-03-29\n",
            "            ...    \n",
            "268273   2010-03-02\n",
            "268274   2010-03-02\n",
            "268275   2010-03-02\n",
            "268276   2010-03-02\n",
            "268277   2010-03-02\n",
            "Name: inspection_date, Length: 24641, dtype: datetime64[ns]\n"
          ]
        }
      ]
    },
    {
      "cell_type": "code",
      "source": [
        "month_to_filter = 4"
      ],
      "metadata": {
        "id": "sSY8vNLUyx29"
      },
      "execution_count": null,
      "outputs": []
    },
    {
      "cell_type": "code",
      "source": [
        "values_for_month = hd[hd['inspection_date'].dt.month == month_to_filter]['inspection_date']"
      ],
      "metadata": {
        "id": "VXEJjlHly1AT"
      },
      "execution_count": null,
      "outputs": []
    },
    {
      "cell_type": "code",
      "source": [
        "print(values_for_month)"
      ],
      "metadata": {
        "colab": {
          "base_uri": "https://localhost:8080/"
        },
        "id": "9RtzVZ93y2fB",
        "outputId": "aa9dace9-ac65-4509-fd84-a54d109744bd"
      },
      "execution_count": null,
      "outputs": [
        {
          "output_type": "stream",
          "name": "stdout",
          "text": [
            "0        2024-04-19\n",
            "1        2024-04-19\n",
            "2        2024-04-19\n",
            "3        2024-04-19\n",
            "4        2024-04-19\n",
            "            ...    \n",
            "266793   2010-04-01\n",
            "266794   2010-04-01\n",
            "266795   2010-04-01\n",
            "266796   2010-04-01\n",
            "266797   2010-04-01\n",
            "Name: inspection_date, Length: 23006, dtype: datetime64[ns]\n"
          ]
        }
      ]
    },
    {
      "cell_type": "code",
      "source": [
        "month_to_filter = 5"
      ],
      "metadata": {
        "id": "JxZ6FG4Py6HQ"
      },
      "execution_count": null,
      "outputs": []
    },
    {
      "cell_type": "code",
      "source": [
        "values_for_month = hd[hd['inspection_date'].dt.month == month_to_filter]['inspection_date']"
      ],
      "metadata": {
        "id": "SOMIBsbWzKdx"
      },
      "execution_count": null,
      "outputs": []
    },
    {
      "cell_type": "code",
      "source": [
        "print(values_for_month)"
      ],
      "metadata": {
        "colab": {
          "base_uri": "https://localhost:8080/"
        },
        "id": "XndyjJCxzNIO",
        "outputId": "7fd1e671-5e9d-4d32-f9e9-ca89eeedec16"
      },
      "execution_count": null,
      "outputs": [
        {
          "output_type": "stream",
          "name": "stdout",
          "text": [
            "15902    2023-05-31\n",
            "15903    2023-05-31\n",
            "15904    2023-05-31\n",
            "15905    2023-05-31\n",
            "15906    2023-05-31\n",
            "            ...    \n",
            "265355   2010-05-03\n",
            "265356   2010-05-03\n",
            "265357   2010-05-03\n",
            "265358   2010-05-03\n",
            "265359   2010-05-03\n",
            "Name: inspection_date, Length: 24068, dtype: datetime64[ns]\n"
          ]
        }
      ]
    },
    {
      "cell_type": "code",
      "source": [
        "month_to_filter = 6"
      ],
      "metadata": {
        "id": "6DMZ1dzlzRk7"
      },
      "execution_count": null,
      "outputs": []
    },
    {
      "cell_type": "code",
      "source": [
        "values_for_month = hd[hd['inspection_date'].dt.month == month_to_filter]['inspection_date']"
      ],
      "metadata": {
        "id": "ymC09N-4zTwS"
      },
      "execution_count": null,
      "outputs": []
    },
    {
      "cell_type": "code",
      "source": [
        "print(values_for_month)"
      ],
      "metadata": {
        "colab": {
          "base_uri": "https://localhost:8080/"
        },
        "id": "FIwY7rd4zZBl",
        "outputId": "6d3040bb-28f2-406d-dc66-ba30bd358677"
      },
      "execution_count": null,
      "outputs": [
        {
          "output_type": "stream",
          "name": "stdout",
          "text": [
            "14370    2023-06-30\n",
            "14371    2023-06-30\n",
            "14372    2023-06-30\n",
            "14373    2023-06-30\n",
            "14374    2023-06-30\n",
            "            ...    \n",
            "263813   2010-06-01\n",
            "263814   2010-06-01\n",
            "263815   2010-06-01\n",
            "263816   2010-06-01\n",
            "263817   2010-06-01\n",
            "Name: inspection_date, Length: 24084, dtype: datetime64[ns]\n"
          ]
        }
      ]
    },
    {
      "cell_type": "code",
      "source": [
        "month_to_filter = 7"
      ],
      "metadata": {
        "id": "hr5FvrDGzgBO"
      },
      "execution_count": null,
      "outputs": []
    },
    {
      "cell_type": "code",
      "source": [
        "values_for_month = hd[hd['inspection_date'].dt.month == month_to_filter]['inspection_date']"
      ],
      "metadata": {
        "id": "ZAfCkC5kzf5G"
      },
      "execution_count": null,
      "outputs": []
    },
    {
      "cell_type": "code",
      "source": [
        "print(values_for_month)"
      ],
      "metadata": {
        "colab": {
          "base_uri": "https://localhost:8080/"
        },
        "id": "skOGefgFzfxw",
        "outputId": "1c762314-4418-49b4-d683-7cbaaf603467"
      },
      "execution_count": null,
      "outputs": [
        {
          "output_type": "stream",
          "name": "stdout",
          "text": [
            "13212    2023-07-31\n",
            "13213    2023-07-31\n",
            "13214    2023-07-31\n",
            "13215    2023-07-31\n",
            "13216    2023-07-31\n",
            "            ...    \n",
            "262049   2010-07-01\n",
            "262050   2010-07-01\n",
            "262051   2010-07-01\n",
            "262052   2010-07-01\n",
            "262053   2010-07-01\n",
            "Name: inspection_date, Length: 19779, dtype: datetime64[ns]\n"
          ]
        }
      ]
    },
    {
      "cell_type": "code",
      "source": [
        "month_to_filter = 8"
      ],
      "metadata": {
        "id": "HOQP2xrCzflK"
      },
      "execution_count": null,
      "outputs": []
    },
    {
      "cell_type": "code",
      "source": [
        "values_for_month = hd[hd['inspection_date'].dt.month == month_to_filter]['inspection_date']"
      ],
      "metadata": {
        "id": "cq8F24K1zfc9"
      },
      "execution_count": null,
      "outputs": []
    },
    {
      "cell_type": "code",
      "source": [
        "print(values_for_month)"
      ],
      "metadata": {
        "colab": {
          "base_uri": "https://localhost:8080/"
        },
        "id": "shB7VRUDzfVP",
        "outputId": "bacecf2d-fb01-425f-a969-2ca8a07cc128"
      },
      "execution_count": null,
      "outputs": [
        {
          "output_type": "stream",
          "name": "stdout",
          "text": [
            "11471    2023-08-31\n",
            "11472    2023-08-31\n",
            "11473    2023-08-31\n",
            "11474    2023-08-31\n",
            "11475    2023-08-31\n",
            "            ...    \n",
            "260725   2010-08-02\n",
            "260726   2010-08-02\n",
            "260727   2010-08-02\n",
            "260728   2010-08-02\n",
            "260729   2010-08-02\n",
            "Name: inspection_date, Length: 23703, dtype: datetime64[ns]\n"
          ]
        }
      ]
    },
    {
      "cell_type": "code",
      "source": [
        "month_to_filter = 9"
      ],
      "metadata": {
        "id": "5_IZz2ogzfDq"
      },
      "execution_count": null,
      "outputs": []
    },
    {
      "cell_type": "code",
      "source": [
        "values_for_month = hd[hd['inspection_date'].dt.month == month_to_filter]['inspection_date']"
      ],
      "metadata": {
        "id": "tAyucxYsze63"
      },
      "execution_count": null,
      "outputs": []
    },
    {
      "cell_type": "code",
      "source": [
        "print(values_for_month)"
      ],
      "metadata": {
        "colab": {
          "base_uri": "https://localhost:8080/"
        },
        "id": "9i79C-Rvzez9",
        "outputId": "53c80a5d-3f88-452d-a365-2d348cdcaefd"
      },
      "execution_count": null,
      "outputs": [
        {
          "output_type": "stream",
          "name": "stdout",
          "text": [
            "9936     2023-09-29\n",
            "9937     2023-09-29\n",
            "9938     2023-09-29\n",
            "9939     2023-09-29\n",
            "9940     2023-09-29\n",
            "            ...    \n",
            "259058   2010-09-01\n",
            "259059   2010-09-01\n",
            "259060   2010-09-01\n",
            "259061   2010-09-01\n",
            "259062   2010-09-01\n",
            "Name: inspection_date, Length: 24069, dtype: datetime64[ns]\n"
          ]
        }
      ]
    },
    {
      "cell_type": "code",
      "source": [
        "month_to_filter = 10"
      ],
      "metadata": {
        "id": "O4cLm19izeiE"
      },
      "execution_count": null,
      "outputs": []
    },
    {
      "cell_type": "code",
      "source": [
        "values_for_month = hd[hd['inspection_date'].dt.month == month_to_filter]['inspection_date']"
      ],
      "metadata": {
        "id": "4opgjgRdzeZ6"
      },
      "execution_count": null,
      "outputs": []
    },
    {
      "cell_type": "code",
      "source": [
        "print(values_for_month)"
      ],
      "metadata": {
        "colab": {
          "base_uri": "https://localhost:8080/"
        },
        "id": "XoVJWeSezeSU",
        "outputId": "b94d375c-d263-4656-856d-a93f9930930b"
      },
      "execution_count": null,
      "outputs": [
        {
          "output_type": "stream",
          "name": "stdout",
          "text": [
            "8142     2023-10-31\n",
            "8143     2023-10-31\n",
            "8144     2023-10-31\n",
            "8145     2023-10-31\n",
            "8146     2023-10-31\n",
            "            ...    \n",
            "257270   2010-10-01\n",
            "257271   2010-10-01\n",
            "257272   2010-10-01\n",
            "257273   2010-10-01\n",
            "257274   2010-10-01\n",
            "Name: inspection_date, Length: 24534, dtype: datetime64[ns]\n"
          ]
        }
      ]
    },
    {
      "cell_type": "code",
      "source": [
        "month_to_filter = 11"
      ],
      "metadata": {
        "id": "6ziYERwRzd8E"
      },
      "execution_count": null,
      "outputs": []
    },
    {
      "cell_type": "code",
      "source": [
        "values_for_month = hd[hd['inspection_date'].dt.month == month_to_filter]['inspection_date']"
      ],
      "metadata": {
        "id": "8LmaHwo2zdzN"
      },
      "execution_count": null,
      "outputs": []
    },
    {
      "cell_type": "code",
      "source": [
        "print(values_for_month)"
      ],
      "metadata": {
        "colab": {
          "base_uri": "https://localhost:8080/"
        },
        "id": "TFZ3YGhxzdrw",
        "outputId": "a68cbbb4-32ef-4133-bc8b-005e104b06e7"
      },
      "execution_count": null,
      "outputs": [
        {
          "output_type": "stream",
          "name": "stdout",
          "text": [
            "6496     2023-11-30\n",
            "6497     2023-11-30\n",
            "6498     2023-11-30\n",
            "6499     2023-11-30\n",
            "6500     2023-11-30\n",
            "            ...    \n",
            "255456   2010-11-01\n",
            "255457   2010-11-01\n",
            "255458   2010-11-01\n",
            "255459   2010-11-01\n",
            "255460   2010-11-01\n",
            "Name: inspection_date, Length: 21463, dtype: datetime64[ns]\n"
          ]
        }
      ]
    },
    {
      "cell_type": "code",
      "source": [
        "month_to_filter = 12"
      ],
      "metadata": {
        "id": "ui_oip-XzdTD"
      },
      "execution_count": null,
      "outputs": []
    },
    {
      "cell_type": "code",
      "source": [
        "values_for_month = hd[hd['inspection_date'].dt.month == month_to_filter]['inspection_date']"
      ],
      "metadata": {
        "id": "nLH2sQbQzdJ3"
      },
      "execution_count": null,
      "outputs": []
    },
    {
      "cell_type": "code",
      "source": [
        "print(values_for_month)"
      ],
      "metadata": {
        "colab": {
          "base_uri": "https://localhost:8080/"
        },
        "id": "Jp4CQgvVzc_-",
        "outputId": "25fe218e-ab61-43f3-b427-ca46482db48a"
      },
      "execution_count": null,
      "outputs": [
        {
          "output_type": "stream",
          "name": "stdout",
          "text": [
            "5039     2023-12-29\n",
            "5040     2023-12-29\n",
            "5041     2023-12-29\n",
            "5042     2023-12-29\n",
            "5043     2023-12-29\n",
            "            ...    \n",
            "254162   2010-12-01\n",
            "254163   2010-12-01\n",
            "254164   2010-12-01\n",
            "254165   2010-12-01\n",
            "254166   2010-12-01\n",
            "Name: inspection_date, Length: 19596, dtype: datetime64[ns]\n"
          ]
        }
      ]
    }
  ]
}